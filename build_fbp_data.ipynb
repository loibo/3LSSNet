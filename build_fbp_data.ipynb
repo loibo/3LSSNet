{
 "cells": [
  {
   "cell_type": "code",
   "execution_count": 1,
   "id": "df8778e2",
   "metadata": {
    "scrolled": true
   },
   "outputs": [
    {
     "name": "stderr",
     "output_type": "stream",
     "text": [
      "\n",
      "Bad key \"text.kerning_factor\" on line 4 in\n",
      "/home/davide.evangelista/anaconda3/envs/tomo/lib/python3.6/site-packages/matplotlib/mpl-data/stylelib/_classic_test_patch.mplstyle.\n",
      "You probably need to get an updated matplotlibrc file from\n",
      "http://github.com/matplotlib/matplotlib/blob/master/matplotlibrc.template\n",
      "or from the matplotlib source distribution\n"
     ]
    },
    {
     "name": "stdout",
     "output_type": "stream",
     "text": [
      "True\n"
     ]
    },
    {
     "data": {
      "text/plain": [
       "\"\\n# Start Iterations!\\nfor i, img_name in enumerate(n_list):\\n    print(i, '-', img_name)\\n    out_path = get_output_path(img_name)\\n    img = read_img(img_name).flatten()\\n    img = img / img.max()\\n\\n    s = A*img\\n    noisy_s = add_gaussian_noise(s, 0.01)\\n\\n    recon_img = A.reconstruct('FBP_CUDA', noisy_s)\\n    recon_img = recon_img.reshape((512, 512))\\n    \\n    np.save(out_path, recon_img)\\n    \\n# Visualize an example\\nplt.figure(figsize=(10, 10))\\nplt.imshow(recon_img)\\nplt.gray()\\nplt.show()\\n\""
      ]
     },
     "execution_count": 1,
     "metadata": {},
     "output_type": "execute_result"
    }
   ],
   "source": [
    "import numpy as np\n",
    "import matplotlib.pyplot as plt\n",
    "\n",
    "import tensorflow as tf\n",
    "from tensorflow import keras\n",
    "from tensorflow.keras import layers, models\n",
    "\n",
    "import os\n",
    "import pydicom as dcm\n",
    "\n",
    "import scipy.signal\n",
    "\n",
    "import astra\n",
    "\n",
    "\n",
    "def add_gaussian_noise(proj_data, noise_level=0.01):\n",
    "    # Generiamo il rumore eta\n",
    "    np.random.seed(42)\n",
    "    noise = np.random.normal(size=proj_data.shape) # random gaussian distribution\n",
    "    noise /= np.linalg.norm(noise.flatten(), 2) # norma di frobenius\n",
    "    noise *= noise_level * np.linalg.norm(proj_data.flatten(), 2)\n",
    "\n",
    "    proj_data += noise\n",
    "\n",
    "    return proj_data\n",
    "\n",
    "\n",
    "def read_img(path):\n",
    "    return np.load(path)\n",
    "\n",
    "\n",
    "def get_name_list(path):\n",
    "    import os\n",
    "    n_list = []\n",
    "    for patient in os.listdir(path):\n",
    "        count = 0\n",
    "        for slice_id in os.listdir(path + patient):\n",
    "            n_list.append(path + patient + '/' + str(count) + '.npy')\n",
    "            count += 1\n",
    "    \n",
    "    return n_list\n",
    "\n",
    "\n",
    "def get_projection_operator():\n",
    "    # create geometries and projector\n",
    "    proj_geom = astra.create_proj_geom('fanflat', 1.0, 1024, np.linspace(0, np.pi, 60), 1800, 500)\n",
    "    vol_geom = astra.create_vol_geom(512, 512)\n",
    "    proj_id = astra.create_projector('cuda', proj_geom, vol_geom)\n",
    "\n",
    "    print(astra.projector.is_cuda(proj_id))\n",
    "\n",
    "    return astra.OpTomo(proj_id)\n",
    "\n",
    "def get_output_path(path):\n",
    "    out_path = './FACT30' + path[6:]\n",
    "\n",
    "    return out_path\n",
    "\n",
    "\n",
    "# Get the list of file name\n",
    "n_list = get_name_list('./FDCT/')\n",
    "\n",
    "# Get the projection operator defined above\n",
    "A = get_projection_operator()\n",
    "\n",
    "# Start Iterations!\n",
    "for i, img_name in enumerate(n_list):\n",
    "    print(i, '-', img_name)\n",
    "    out_path = get_output_path(img_name)\n",
    "    img = read_img(img_name).flatten()\n",
    "    img = img / img.max()\n",
    "\n",
    "    s = A*img\n",
    "    noisy_s = add_gaussian_noise(s, 0.01)\n",
    "\n",
    "    recon_img = A.reconstruct('FBP_CUDA', noisy_s)\n",
    "    recon_img = recon_img.reshape((512, 512))\n",
    "    \n",
    "    np.save(out_path, recon_img)\n",
    "    \n",
    "# Visualize an example\n",
    "plt.figure(figsize=(10, 10))\n",
    "plt.imshow(recon_img)\n",
    "plt.gray()\n",
    "plt.show()"
   ]
  },
  {
   "cell_type": "code",
   "execution_count": null,
   "id": "81cbc827",
   "metadata": {},
   "outputs": [],
   "source": []
  }
 ],
 "metadata": {
  "kernelspec": {
   "display_name": "Python 3",
   "language": "python",
   "name": "python3"
  },
  "language_info": {
   "codemirror_mode": {
    "name": "ipython",
    "version": 3
   },
   "file_extension": ".py",
   "mimetype": "text/x-python",
   "name": "python",
   "nbconvert_exporter": "python",
   "pygments_lexer": "ipython3",
   "version": "3.6.13"
  }
 },
 "nbformat": 4,
 "nbformat_minor": 5
}
